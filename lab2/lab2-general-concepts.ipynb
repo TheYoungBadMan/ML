{
 "cells": [
  {
   "cell_type": "markdown",
   "metadata": {},
   "source": [
    "### Лабораторная работа 2: основные понятия"
   ]
  },
  {
   "cell_type": "markdown",
   "metadata": {},
   "source": [
    "В сегодняшней лабораторной будем работать с данными о проданных на аукционе автомобилях (`Carvana Car Prediction`). Целевым признаком здесь является наличие скрытых продавцом существенных недостатков. \n",
    "\n",
    "Carvana &mdash; компания-перекупщик автомобилей, соответственно, ее задача &mdash; не допустить скупку автомобилей со скрытыми недостатками, так как их впоследствии тяжелее продавать."
   ]
  },
  {
   "cell_type": "markdown",
   "metadata": {},
   "source": [
    "## 1"
   ]
  },
  {
   "cell_type": "markdown",
   "metadata": {},
   "source": [
    "Загрузите данные о проданных на аукционе автомобилях. Посмотрите на \"сырые\" данные. \n",
    "\n",
    "Просмотрите файл `Data_Dictionary.txt` и поймите, что означают столбцы матрицы. Выведите статистику по столбцам.\n"
   ]
  },
  {
   "cell_type": "code",
   "execution_count": 9,
   "metadata": {},
   "outputs": [
    {
     "data": {
      "text/html": [
       "<div>\n",
       "<style scoped>\n",
       "    .dataframe tbody tr th:only-of-type {\n",
       "        vertical-align: middle;\n",
       "    }\n",
       "\n",
       "    .dataframe tbody tr th {\n",
       "        vertical-align: top;\n",
       "    }\n",
       "\n",
       "    .dataframe thead th {\n",
       "        text-align: right;\n",
       "    }\n",
       "</style>\n",
       "<table border=\"1\" class=\"dataframe\">\n",
       "  <thead>\n",
       "    <tr style=\"text-align: right;\">\n",
       "      <th></th>\n",
       "      <th>RefId</th>\n",
       "      <th>IsBadBuy</th>\n",
       "      <th>VehYear</th>\n",
       "      <th>VehicleAge</th>\n",
       "      <th>WheelTypeID</th>\n",
       "      <th>VehOdo</th>\n",
       "      <th>MMRAcquisitionAuctionAveragePrice</th>\n",
       "      <th>MMRAcquisitionAuctionCleanPrice</th>\n",
       "      <th>MMRAcquisitionRetailAveragePrice</th>\n",
       "      <th>MMRAcquisitonRetailCleanPrice</th>\n",
       "      <th>MMRCurrentAuctionAveragePrice</th>\n",
       "      <th>MMRCurrentAuctionCleanPrice</th>\n",
       "      <th>MMRCurrentRetailAveragePrice</th>\n",
       "      <th>MMRCurrentRetailCleanPrice</th>\n",
       "      <th>BYRNO</th>\n",
       "      <th>VNZIP1</th>\n",
       "      <th>VehBCost</th>\n",
       "      <th>IsOnlineSale</th>\n",
       "      <th>WarrantyCost</th>\n",
       "    </tr>\n",
       "  </thead>\n",
       "  <tbody>\n",
       "    <tr>\n",
       "      <th>count</th>\n",
       "      <td>72983.000000</td>\n",
       "      <td>72983.000000</td>\n",
       "      <td>72983.000000</td>\n",
       "      <td>72983.000000</td>\n",
       "      <td>69814.000000</td>\n",
       "      <td>72983.000000</td>\n",
       "      <td>72965.000000</td>\n",
       "      <td>72965.000000</td>\n",
       "      <td>72965.000000</td>\n",
       "      <td>72965.000000</td>\n",
       "      <td>72668.000000</td>\n",
       "      <td>72668.000000</td>\n",
       "      <td>72668.000000</td>\n",
       "      <td>72668.000000</td>\n",
       "      <td>72983.000000</td>\n",
       "      <td>72983.000000</td>\n",
       "      <td>72983.000000</td>\n",
       "      <td>72983.000000</td>\n",
       "      <td>72983.000000</td>\n",
       "    </tr>\n",
       "    <tr>\n",
       "      <th>mean</th>\n",
       "      <td>36511.428497</td>\n",
       "      <td>0.122988</td>\n",
       "      <td>2005.343052</td>\n",
       "      <td>4.176644</td>\n",
       "      <td>1.494299</td>\n",
       "      <td>71499.995917</td>\n",
       "      <td>6128.909217</td>\n",
       "      <td>7373.636031</td>\n",
       "      <td>8497.034332</td>\n",
       "      <td>9850.928240</td>\n",
       "      <td>6132.081287</td>\n",
       "      <td>7390.681827</td>\n",
       "      <td>8775.723331</td>\n",
       "      <td>10145.385314</td>\n",
       "      <td>26345.842155</td>\n",
       "      <td>58043.059945</td>\n",
       "      <td>6730.934326</td>\n",
       "      <td>0.025280</td>\n",
       "      <td>1276.580985</td>\n",
       "    </tr>\n",
       "    <tr>\n",
       "      <th>std</th>\n",
       "      <td>21077.241302</td>\n",
       "      <td>0.328425</td>\n",
       "      <td>1.731252</td>\n",
       "      <td>1.712210</td>\n",
       "      <td>0.521290</td>\n",
       "      <td>14578.913128</td>\n",
       "      <td>2461.992768</td>\n",
       "      <td>2722.491986</td>\n",
       "      <td>3156.285284</td>\n",
       "      <td>3385.789541</td>\n",
       "      <td>2434.567723</td>\n",
       "      <td>2686.248852</td>\n",
       "      <td>3090.702941</td>\n",
       "      <td>3310.254351</td>\n",
       "      <td>25717.351219</td>\n",
       "      <td>26151.640415</td>\n",
       "      <td>1767.846435</td>\n",
       "      <td>0.156975</td>\n",
       "      <td>598.846788</td>\n",
       "    </tr>\n",
       "    <tr>\n",
       "      <th>min</th>\n",
       "      <td>1.000000</td>\n",
       "      <td>0.000000</td>\n",
       "      <td>2001.000000</td>\n",
       "      <td>0.000000</td>\n",
       "      <td>0.000000</td>\n",
       "      <td>4825.000000</td>\n",
       "      <td>0.000000</td>\n",
       "      <td>0.000000</td>\n",
       "      <td>0.000000</td>\n",
       "      <td>0.000000</td>\n",
       "      <td>0.000000</td>\n",
       "      <td>0.000000</td>\n",
       "      <td>0.000000</td>\n",
       "      <td>0.000000</td>\n",
       "      <td>835.000000</td>\n",
       "      <td>2764.000000</td>\n",
       "      <td>1.000000</td>\n",
       "      <td>0.000000</td>\n",
       "      <td>462.000000</td>\n",
       "    </tr>\n",
       "    <tr>\n",
       "      <th>25%</th>\n",
       "      <td>18257.500000</td>\n",
       "      <td>0.000000</td>\n",
       "      <td>2004.000000</td>\n",
       "      <td>3.000000</td>\n",
       "      <td>1.000000</td>\n",
       "      <td>61837.000000</td>\n",
       "      <td>4273.000000</td>\n",
       "      <td>5406.000000</td>\n",
       "      <td>6280.000000</td>\n",
       "      <td>7493.000000</td>\n",
       "      <td>4275.000000</td>\n",
       "      <td>5414.000000</td>\n",
       "      <td>6536.000000</td>\n",
       "      <td>7784.000000</td>\n",
       "      <td>17212.000000</td>\n",
       "      <td>32124.000000</td>\n",
       "      <td>5435.000000</td>\n",
       "      <td>0.000000</td>\n",
       "      <td>837.000000</td>\n",
       "    </tr>\n",
       "    <tr>\n",
       "      <th>50%</th>\n",
       "      <td>36514.000000</td>\n",
       "      <td>0.000000</td>\n",
       "      <td>2005.000000</td>\n",
       "      <td>4.000000</td>\n",
       "      <td>1.000000</td>\n",
       "      <td>73361.000000</td>\n",
       "      <td>6097.000000</td>\n",
       "      <td>7303.000000</td>\n",
       "      <td>8444.000000</td>\n",
       "      <td>9789.000000</td>\n",
       "      <td>6062.000000</td>\n",
       "      <td>7313.000000</td>\n",
       "      <td>8729.000000</td>\n",
       "      <td>10103.000000</td>\n",
       "      <td>19662.000000</td>\n",
       "      <td>73108.000000</td>\n",
       "      <td>6700.000000</td>\n",
       "      <td>0.000000</td>\n",
       "      <td>1155.000000</td>\n",
       "    </tr>\n",
       "    <tr>\n",
       "      <th>75%</th>\n",
       "      <td>54764.500000</td>\n",
       "      <td>0.000000</td>\n",
       "      <td>2007.000000</td>\n",
       "      <td>5.000000</td>\n",
       "      <td>2.000000</td>\n",
       "      <td>82436.000000</td>\n",
       "      <td>7765.000000</td>\n",
       "      <td>9021.000000</td>\n",
       "      <td>10651.000000</td>\n",
       "      <td>12088.000000</td>\n",
       "      <td>7736.000000</td>\n",
       "      <td>9013.000000</td>\n",
       "      <td>10911.000000</td>\n",
       "      <td>12309.000000</td>\n",
       "      <td>22808.000000</td>\n",
       "      <td>80022.000000</td>\n",
       "      <td>7900.000000</td>\n",
       "      <td>0.000000</td>\n",
       "      <td>1623.000000</td>\n",
       "    </tr>\n",
       "    <tr>\n",
       "      <th>max</th>\n",
       "      <td>73014.000000</td>\n",
       "      <td>1.000000</td>\n",
       "      <td>2010.000000</td>\n",
       "      <td>9.000000</td>\n",
       "      <td>3.000000</td>\n",
       "      <td>115717.000000</td>\n",
       "      <td>35722.000000</td>\n",
       "      <td>36859.000000</td>\n",
       "      <td>39080.000000</td>\n",
       "      <td>41482.000000</td>\n",
       "      <td>35722.000000</td>\n",
       "      <td>36859.000000</td>\n",
       "      <td>39080.000000</td>\n",
       "      <td>41062.000000</td>\n",
       "      <td>99761.000000</td>\n",
       "      <td>99224.000000</td>\n",
       "      <td>45469.000000</td>\n",
       "      <td>1.000000</td>\n",
       "      <td>7498.000000</td>\n",
       "    </tr>\n",
       "  </tbody>\n",
       "</table>\n",
       "</div>"
      ],
      "text/plain": [
       "              RefId      IsBadBuy       VehYear    VehicleAge   WheelTypeID  \\\n",
       "count  72983.000000  72983.000000  72983.000000  72983.000000  69814.000000   \n",
       "mean   36511.428497      0.122988   2005.343052      4.176644      1.494299   \n",
       "std    21077.241302      0.328425      1.731252      1.712210      0.521290   \n",
       "min        1.000000      0.000000   2001.000000      0.000000      0.000000   \n",
       "25%    18257.500000      0.000000   2004.000000      3.000000      1.000000   \n",
       "50%    36514.000000      0.000000   2005.000000      4.000000      1.000000   \n",
       "75%    54764.500000      0.000000   2007.000000      5.000000      2.000000   \n",
       "max    73014.000000      1.000000   2010.000000      9.000000      3.000000   \n",
       "\n",
       "              VehOdo  MMRAcquisitionAuctionAveragePrice  \\\n",
       "count   72983.000000                       72965.000000   \n",
       "mean    71499.995917                        6128.909217   \n",
       "std     14578.913128                        2461.992768   \n",
       "min      4825.000000                           0.000000   \n",
       "25%     61837.000000                        4273.000000   \n",
       "50%     73361.000000                        6097.000000   \n",
       "75%     82436.000000                        7765.000000   \n",
       "max    115717.000000                       35722.000000   \n",
       "\n",
       "       MMRAcquisitionAuctionCleanPrice  MMRAcquisitionRetailAveragePrice  \\\n",
       "count                     72965.000000                      72965.000000   \n",
       "mean                       7373.636031                       8497.034332   \n",
       "std                        2722.491986                       3156.285284   \n",
       "min                           0.000000                          0.000000   \n",
       "25%                        5406.000000                       6280.000000   \n",
       "50%                        7303.000000                       8444.000000   \n",
       "75%                        9021.000000                      10651.000000   \n",
       "max                       36859.000000                      39080.000000   \n",
       "\n",
       "       MMRAcquisitonRetailCleanPrice  MMRCurrentAuctionAveragePrice  \\\n",
       "count                   72965.000000                   72668.000000   \n",
       "mean                     9850.928240                    6132.081287   \n",
       "std                      3385.789541                    2434.567723   \n",
       "min                         0.000000                       0.000000   \n",
       "25%                      7493.000000                    4275.000000   \n",
       "50%                      9789.000000                    6062.000000   \n",
       "75%                     12088.000000                    7736.000000   \n",
       "max                     41482.000000                   35722.000000   \n",
       "\n",
       "       MMRCurrentAuctionCleanPrice  MMRCurrentRetailAveragePrice  \\\n",
       "count                 72668.000000                  72668.000000   \n",
       "mean                   7390.681827                   8775.723331   \n",
       "std                    2686.248852                   3090.702941   \n",
       "min                       0.000000                      0.000000   \n",
       "25%                    5414.000000                   6536.000000   \n",
       "50%                    7313.000000                   8729.000000   \n",
       "75%                    9013.000000                  10911.000000   \n",
       "max                   36859.000000                  39080.000000   \n",
       "\n",
       "       MMRCurrentRetailCleanPrice         BYRNO        VNZIP1      VehBCost  \\\n",
       "count                72668.000000  72983.000000  72983.000000  72983.000000   \n",
       "mean                 10145.385314  26345.842155  58043.059945   6730.934326   \n",
       "std                   3310.254351  25717.351219  26151.640415   1767.846435   \n",
       "min                      0.000000    835.000000   2764.000000      1.000000   \n",
       "25%                   7784.000000  17212.000000  32124.000000   5435.000000   \n",
       "50%                  10103.000000  19662.000000  73108.000000   6700.000000   \n",
       "75%                  12309.000000  22808.000000  80022.000000   7900.000000   \n",
       "max                  41062.000000  99761.000000  99224.000000  45469.000000   \n",
       "\n",
       "       IsOnlineSale  WarrantyCost  \n",
       "count  72983.000000  72983.000000  \n",
       "mean       0.025280   1276.580985  \n",
       "std        0.156975    598.846788  \n",
       "min        0.000000    462.000000  \n",
       "25%        0.000000    837.000000  \n",
       "50%        0.000000   1155.000000  \n",
       "75%        0.000000   1623.000000  \n",
       "max        1.000000   7498.000000  "
      ]
     },
     "execution_count": 9,
     "metadata": {},
     "output_type": "execute_result"
    }
   ],
   "source": [
    "import pandas as pd\n",
    "data = pd.read_csv('data.csv', delimiter = ',')\n",
    "data.describe()"
   ]
  },
  {
   "cell_type": "code",
   "execution_count": 10,
   "metadata": {},
   "outputs": [
    {
     "name": "stdout",
     "output_type": "stream",
     "text": [
      "Field Name\t\t\t\tDefinition\n",
      "\n",
      "RefID\t\t\t\t        Unique (sequential) number assigned to vehicles\n",
      "\n",
      "IsBadBuy\t\t\t\tIdentifies if the kicked vehicle was an avoidable purchase \n",
      "\n",
      "PurchDate\t\t\t\tThe Date the vehicle was Purchased at Auction\n",
      "\n",
      "Auction\t\t\t\t\tAuction provider at which the  vehicle was purchased\n",
      "\n",
      "VehYear\t\t\t\t\tThe manufacturer's year of the vehicle\n",
      "\n",
      "VehicleAge\t\t\t\tThe Years elapsed since the manufacturer's year\n",
      "\n",
      "Make\t\t\t\t\tVehicle Manufacturer \n",
      "\n",
      "Model\t\t\t\t\tVehicle Model\n",
      "\n",
      "Trim\t\t\t\t\tVehicle Trim Level\n",
      "\n",
      "SubModel\t\t\t\tVehicle Submodel\n",
      "\n",
      "Color\t\t\t\t\tVehicle Color\n",
      "\n",
      "Transmission\t\t\t\tVehicles transmission type (Automatic, Manual)\n",
      "\n",
      "WheelTypeID\t\t\t\tThe type id of the vehicle wheel\n",
      "\n",
      "WheelType\t\t\t\tThe vehicle wheel type description (Alloy, Covers)\n",
      "\n",
      "VehOdo\t\t\t\t\tThe vehicles odometer reading\n",
      "\n",
      "Nationality\t\t\t\tThe Manufacturer's country\n",
      "\n",
      "Size\t\t\t\t\tThe size category of the vehicle (Compact, SUV, etc.)\n",
      "\n",
      "TopThreeAmericanName\t\t\tIdentifies if the manufacturer is one of the top three American manufacturers\n",
      "\n",
      "MMRAcquisitionAuctionAveragePrice\tAcquisition price for this vehicle in average condition at time of purchase\t\n",
      "\n",
      "MMRAcquisitionAuctionCleanPrice\t\tAcquisition price for this vehicle in the above Average condition at time of purchase\n",
      "\n",
      "MMRAcquisitionRetailAveragePrice\tAcquisition price for this vehicle in the retail market in average condition at time of purchase\n",
      "\n",
      "MMRAcquisitonRetailCleanPrice\t\tAcquisition price for this vehicle in the retail market in above average condition at time of purchase\n",
      "\n",
      "MMRCurrentAuctionAveragePrice\t\tAcquisition price for this vehicle in average condition as of current day\t\n",
      "\n",
      "MMRCurrentAuctionCleanPrice\t\tAcquisition price for this vehicle in the above condition as of current day\n",
      "\n",
      "MMRCurrentRetailAveragePrice\t\tAcquisition price for this vehicle in the retail market in average condition as of current day\n",
      "\n",
      "MMRCurrentRetailCleanPrice\t\tAcquisition price for this vehicle in the retail market in above average condition as of current day\n",
      "\n",
      "PRIMEUNIT\t\t\t\tIdentifies if the vehicle would have a higher demand than a standard purchase\n",
      "\n",
      "AcquisitionType\t\t\t\tIdentifies how the vehicle was aquired (Auction buy, trade in, etc)\n",
      "\n",
      "AUCGUART\t\t\t\tThe level guarntee provided by auction for the vehicle (Green light - Guaranteed/arbitratable, Yellow Light - caution/issue, red light - sold as is)\n",
      "\n",
      "KickDate\t\t\t\tDate the vehicle was kicked back to the auction\n",
      "\n",
      "BYRNO\t\t\t\t\tUnique number assigned to the buyer that purchased the vehicle\n",
      "\n",
      "VNZIP                                   Zipcode where the car was purchased\n",
      "\n",
      "VNST                                    State where the the car was purchased\n",
      "\n",
      "VehBCost\t\t\t\tAcquisition cost paid for the vehicle at time of purchase\n",
      "\n",
      "IsOnlineSale\t\t\t\tIdentifies if the vehicle was originally purchased online\n",
      "\n",
      "WarrantyCost                            Warranty price (term=36month  and millage=36K) \n",
      "\n",
      "\n",
      "\n"
     ]
    }
   ],
   "source": [
    "rows = open(\"Data_Dictionary.txt\", \"r\")\n",
    "for i in rows:\n",
    "    print(i)"
   ]
  },
  {
   "cell_type": "markdown",
   "metadata": {},
   "source": [
    "## 2\n",
    "\n",
    "Постройте график рассеяния с пробегом в качестве оси абсцисс и ценой `MMRCurrentRetailAveragePrice` в качестве оси ординат. Автомобили без недостатков отметьте зеленым цветом, со скрытыми недостатками — красным."
   ]
  },
  {
   "cell_type": "code",
   "execution_count": 11,
   "metadata": {},
   "outputs": [
    {
     "data": {
      "text/plain": [
       "<matplotlib.collections.PathCollection at 0x7f95b44388b0>"
      ]
     },
     "execution_count": 11,
     "metadata": {},
     "output_type": "execute_result"
    },
    {
     "data": {
      "image/png": "[encoded data removed]",
      "text/plain": [
       "<Figure size 432x288 with 1 Axes>"
      ]
     },
     "metadata": {
      "needs_background": "light"
     },
     "output_type": "display_data"
    }
   ],
   "source": [
    "import matplotlib.pyplot as plt\n",
    "i = data['IsBadBuy'] == 0\n",
    "y1 = data.loc[i, ['VehOdo', 'MMRCurrentRetailAveragePrice']]\n",
    "\n",
    "i = data['IsBadBuy'] == 1\n",
    "y2 = data.loc[i, ['VehOdo', 'MMRCurrentRetailAveragePrice']]\n",
    "plt.xlabel('VehOdo')  \n",
    "plt.ylabel('MMRCurrentRetailAveragePrice') \n",
    "plt.scatter(y1['VehOdo'], y1['MMRCurrentRetailAveragePrice'], color = 'g')\n",
    "plt.scatter(y2['VehOdo'], y2['MMRCurrentRetailAveragePrice'], color = 'r')"
   ]
  },
  {
   "cell_type": "markdown",
   "metadata": {},
   "source": [
    "# Регрессия"
   ]
  },
  {
   "cell_type": "markdown",
   "metadata": {},
   "source": [
    "## 3a\n",
    "\n",
    "Импортируйте из библиотеки `sklearn` все модели машинного обучения:\n",
    "\n",
    "`from sklearn import *`\n",
    "\n",
    "Трактуя задачу о предсказании наличия недостатков как задачу регрессии, натренируйте линейную модель [`LinearRegression`](https://scikit-learn.org/stable/modules/generated/sklearn.linear_model.LinearRegression.html) на каком-нибудь подмножестве признаков (например, тех же `VehOdo` и `MMRCurrentRetailAveragePrice`). \n",
    "\n",
    "С какой проблемой вы столкнулись? Какие способы ее решения вы можете предложить?\n",
    "\n",
    "*Функции, которые могут пригодиться при решении: `.fit(), .loc[], pd.notnull()`*\n",
    "\n",
    "*Создание модели:* `model1 = linear_model.LinearRegression()`\n",
    "\n",
    "*Тренировка:*\n",
    "`model1.fit(x, y)`\n",
    "\n"
   ]
  },
  {
   "cell_type": "code",
   "execution_count": 12,
   "metadata": {},
   "outputs": [],
   "source": [
    "from sklearn import *\n",
    "\n",
    "i = pd.notnull(data['MMRCurrentRetailAveragePrice'])\n",
    "features = ['MMRCurrentRetailAveragePrice', 'VehOdo']\n",
    "X = data.loc[i, features].values\n",
    "y = data.loc[i, 'IsBadBuy'].values\n",
    "X_train, X_test, y_train, y_test = model_selection.train_test_split(\n",
    "    X, y, test_size = 0.2, random_state = 0)\n",
    "model = linear_model.LinearRegression().fit(X_train, y_train)"
   ]
  },
  {
   "cell_type": "markdown",
   "metadata": {},
   "source": [
    "## 3b\n",
    "\n",
    "Выполните предсказание для всех объектов обучающей выборки и присвойте результат переменной prediction\n",
    "\n",
    "\n",
    "*Функции, которые могут пригодиться при решении: `model.predict()`*"
   ]
  },
  {
   "cell_type": "code",
   "execution_count": 13,
   "metadata": {},
   "outputs": [
    {
     "name": "stdout",
     "output_type": "stream",
     "text": [
      "       Actual  Predicted\n",
      "0           0   0.047923\n",
      "1           0   0.085553\n",
      "2           0   0.091219\n",
      "3           0   0.145792\n",
      "4           0   0.104056\n",
      "...       ...        ...\n",
      "14529       0   0.128373\n",
      "14530       0   0.143464\n",
      "14531       0   0.078096\n",
      "14532       0   0.054620\n",
      "14533       1   0.192969\n",
      "\n",
      "[14534 rows x 2 columns]\n"
     ]
    }
   ],
   "source": [
    "prediction = model.predict(X_test)\n",
    "print(pd.DataFrame({'Actual': y_test.flatten(), 'Predicted': prediction.flatten()}))"
   ]
  },
  {
   "cell_type": "markdown",
   "metadata": {},
   "source": [
    "## 3c\n",
    "\n",
    "Преобразуйте получившийся вектор предсказаний `prediction` к значениям `{0,1}`. Это можно сделать, например, используя list comprehensions: https://docs.python.org/3/tutorial/datastructures.html#list-comprehensions \n",
    "\n",
    "`predictionClass = [1 if prediction[i] > 0.5 else 0 for i in range(prediction.shape[0])]`"
   ]
  },
  {
   "cell_type": "code",
   "execution_count": 14,
   "metadata": {},
   "outputs": [],
   "source": [
    "import numpy as np\n",
    "predictionClass = np.array([1 if prediction[i] > 0.5 else 0 for i in range(prediction.shape[0])])"
   ]
  },
  {
   "cell_type": "markdown",
   "metadata": {},
   "source": [
    "## 3d\n",
    "\n",
    "Постройте отчет по качеству классификации и матрицу ошибок. Как изменятся отчет и матрица ошибок, если изменить порог в задании 3c (по умолчанию его значение равно 0.5)?\n",
    "\n",
    "*Функции, которые могут пригодиться при решении: `print(metrics.classification_report(...))`, `print(metrics.confusion_matrix(...))`*\n",
    "\n",
    "Функция classification_report для каждого класса объектов считает точность (precision) в этом классе и полноту (recall). Полнота - это процент объектов данного класса, которые ваш метод предсказания тоже отнес к этому классу, среди всех объектов данного класса. Точность (precision) - то же самое, только среди всех объектов, предсказанных для этого класса.\n",
    "\n",
    "Функция confusion_matrix возвращает матрицу с количествами объектов. Номера столбцов матрицы - это номера предсказанных классов, строки - это номера правильных классов. Например, элемент M[0,1] - это количество машин, где на самом деле IsBadBuy = 0, а вы предсказали 1."
   ]
  },
  {
   "cell_type": "code",
   "execution_count": 15,
   "metadata": {},
   "outputs": [
    {
     "name": "stdout",
     "output_type": "stream",
     "text": [
      "              precision    recall  f1-score   support\n",
      "\n",
      "           0       0.88      1.00      0.93     12732\n",
      "           1       0.00      0.00      0.00      1802\n",
      "\n",
      "    accuracy                           0.88     14534\n",
      "   macro avg       0.44      0.50      0.47     14534\n",
      "weighted avg       0.77      0.88      0.82     14534\n",
      "\n",
      "[[12732     0]\n",
      " [ 1802     0]]\n"
     ]
    },
    {
     "name": "stderr",
     "output_type": "stream",
     "text": [
      "/home/sultandc/.local/lib/python3.8/site-packages/sklearn/metrics/_classification.py:1221: UndefinedMetricWarning: Precision and F-score are ill-defined and being set to 0.0 in labels with no predicted samples. Use `zero_division` parameter to control this behavior.\n",
      "  _warn_prf(average, modifier, msg_start, len(result))\n"
     ]
    }
   ],
   "source": [
    "print(metrics.classification_report(y_test, predictionClass))\n",
    "print(metrics.confusion_matrix(y_test, predictionClass))"
   ]
  },
  {
   "cell_type": "markdown",
   "metadata": {},
   "source": [
    "# Классификация\n",
    "\n",
    "## 4a\n",
    "Трактуя задачу как задачу классификации, постройте модель классификации «решающее дерево» глубины 20  (все аналогично линейной регрессии).\n",
    "\n",
    "\n",
    "*Функции, которые могут пригодиться при решении: `tree.DecisionTreeClassifier(max_depth=20) `*"
   ]
  },
  {
   "cell_type": "code",
   "execution_count": 16,
   "metadata": {},
   "outputs": [],
   "source": [
    "clf = tree.DecisionTreeClassifier(max_depth = 20).fit(X_train, y_train)"
   ]
  },
  {
   "cell_type": "markdown",
   "metadata": {},
   "source": [
    "## 4b\n",
    "\n",
    "Решающее дерево предсказывает вероятности. С помощью построенной модели рассчитайте вероятности наличия скрываемых недостатков.\n",
    "\n",
    "*Функции, которые могут пригодиться при решении: `model.predict_proba() `*"
   ]
  },
  {
   "cell_type": "code",
   "execution_count": 17,
   "metadata": {},
   "outputs": [
    {
     "name": "stdout",
     "output_type": "stream",
     "text": [
      "Accuracy: 0.8453281959543141\n"
     ]
    }
   ],
   "source": [
    "pred = clf.predict_proba(X_test)\n",
    "result = np.array([pred[i][0] for i in range(X_test.shape[0])])\n",
    "print(\"Accuracy:\", clf.score(X_test,y_test))"
   ]
  },
  {
   "cell_type": "markdown",
   "metadata": {},
   "source": [
    "## 4c\n",
    "\n",
    "Преобразуйте получившийся вектор предсказаний `prediction` к значениям `{0,1}`. Постройте отчет о классификации и матрицу ошибок. Какой метод оказался лучше?"
   ]
  },
  {
   "cell_type": "code",
   "execution_count": 18,
   "metadata": {},
   "outputs": [
    {
     "name": "stdout",
     "output_type": "stream",
     "text": [
      "              precision    recall  f1-score   support\n",
      "\n",
      "           0       0.88      0.95      0.91     12732\n",
      "           1       0.16      0.06      0.09      1802\n",
      "\n",
      "    accuracy                           0.84     14534\n",
      "   macro avg       0.52      0.51      0.50     14534\n",
      "weighted avg       0.79      0.84      0.81     14534\n",
      "\n",
      "[[12158   574]\n",
      " [ 1693   109]]\n"
     ]
    }
   ],
   "source": [
    "predictionClass1 = np.array([0 if result[i] > 0.5 else 1 for i in range(pred.shape[0])])\n",
    "print(metrics.classification_report(y_test, predictionClass1))\n",
    "print(metrics.confusion_matrix(y_test, predictionClass1))"
   ]
  },
  {
   "cell_type": "markdown",
   "metadata": {},
   "source": [
    "# Кросс-валидация\n",
    "## 5a\n",
    "\n",
    "\n",
    "Разделите исходную выборку на две части, например, используя [slices](https://pythonz.net/references/named/slice/):\n",
    "\n",
    "`dataTrain = data.loc[0:34999,]\n",
    "dataTest = data.loc[35000:69999,]`"
   ]
  },
  {
   "cell_type": "code",
   "execution_count": 19,
   "metadata": {},
   "outputs": [],
   "source": [
    "dataTrain, dataTest, resTrain, resTest = model_selection.train_test_split(\n",
    "    X, y, test_size = 0.5, random_state = 0)"
   ]
  },
  {
   "cell_type": "markdown",
   "metadata": {},
   "source": [
    "## 5b\n",
    "\n",
    "Натренируйте решающее дерево на  `dataTrain` и примените к  `dataTrain` и dataTest, вычислив для каждого случая точность предсказания. \n",
    "\n",
    "Проведите несколько экспериментов для различных глубин дерева. Напишите в комментариях, для каких глубин модель недообучена, для каких переобучена и где точка раннего останова.\n",
    "\n",
    "*Функции, которые могут пригодиться при решении: `metrics.accuracy_score() `*"
   ]
  },
  {
   "cell_type": "code",
   "execution_count": 20,
   "metadata": {},
   "outputs": [
    {
     "name": "stdout",
     "output_type": "stream",
     "text": [
      "Accuracy: 0.8841305664116255\n",
      "Accuracy: 0.9262123630759068\n",
      "Accuracy: 0.9718445533109484\n",
      "Accuracy: 0.8718555622832609\n",
      "Accuracy: 0.8378653602686189\n",
      "Accuracy: 0.8065173116089613\n"
     ]
    }
   ],
   "source": [
    "clf1 = tree.DecisionTreeClassifier(max_depth = 10).fit(dataTrain, resTrain)\n",
    "clf2 = tree.DecisionTreeClassifier(max_depth = 20).fit(dataTrain, resTrain)\n",
    "clf3 = tree.DecisionTreeClassifier(max_depth = 30).fit(dataTrain, resTrain)\n",
    "\n",
    "print(\"Accuracy:\", clf1.score(dataTrain, resTrain))\n",
    "print(\"Accuracy:\", clf2.score(dataTrain, resTrain))\n",
    "print(\"Accuracy:\", clf3.score(dataTrain, resTrain)) # c увеличением глубины, точность растет\n",
    "\n",
    "print(\"Accuracy:\", clf1.score(dataTest, resTest))\n",
    "print(\"Accuracy:\", clf2.score(dataTest, resTest))\n",
    "print(\"Accuracy:\", clf3.score(dataTest, resTest)) # с увеличением глубины, точность уменьшается"
   ]
  },
  {
   "cell_type": "markdown",
   "metadata": {},
   "source": [
    "# Решающая функция\n",
    "## 6a\n",
    "\n",
    "Вернемся к модели решающего дерева глубины 20, построенного по всей обучающей выборке `data`. Пусть цена ошибки неправильного предсказания 0 равна 1000, а неправильного предсказания 1 — 100.\n",
    "\n",
    "Вычислите функцию потерь &mdash; среднюю ошибку на всей обучающей выборке."
   ]
  },
  {
   "cell_type": "code",
   "execution_count": 21,
   "metadata": {},
   "outputs": [
    {
     "name": "stdout",
     "output_type": "stream",
     "text": [
      "9.895689987339681\n"
     ]
    }
   ],
   "source": [
    "newData = X\n",
    "newRes = y\n",
    "T = tree.DecisionTreeClassifier(max_depth = 20).fit(newData, newRes)\n",
    "\n",
    "Res = T.predict(newData)\n",
    "\n",
    "AverageLoss = 0\n",
    "for i, j in zip(Res, newRes):\n",
    "    if j == 0 and i == 1:\n",
    "        AverageLoss += 1000\n",
    "    if j == 1 and i == 0:\n",
    "        AverageLoss += 100\n",
    "\n",
    "print(AverageLoss / Res.size)"
   ]
  },
  {
   "cell_type": "markdown",
   "metadata": {},
   "source": [
    "## 6b\n",
    "\n",
    "Выясните, как нужно изменить решающую функцию `[0 if predictionProb[i][0] > 0.5 else 1 for i in range(prediction.shape[0])]`, чтобы функция потерь была минимальна?\n",
    "\n",
    "Найдите оптимальную решающую функцию и минимальное значение функционала потерь методом подбора или пользуясь формулой из лекции 2 (слайд Decision function).\n",
    "\n"
   ]
  },
  {
   "cell_type": "code",
   "execution_count": 39,
   "metadata": {},
   "outputs": [],
   "source": [
    "predClass = np.array([0 if Res[i] > 0.5 else 1 for i in range(Res.shape[0])])"
   ]
  }
 ],
 "metadata": {
  "kernelspec": {
   "display_name": "Python 3",
   "language": "python",
   "name": "python3"
  },
  "language_info": {
   "codemirror_mode": {
    "name": "ipython",
    "version": 3
   },
   "file_extension": ".py",
   "mimetype": "text/x-python",
   "name": "python",
   "nbconvert_exporter": "python",
   "pygments_lexer": "ipython3",
   "version": "3.8.2"
  }
 },
 "nbformat": 4,
 "nbformat_minor": 4
}
